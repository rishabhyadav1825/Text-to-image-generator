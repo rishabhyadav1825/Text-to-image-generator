{
  "cells": [
    {
      "cell_type": "markdown",
      "metadata": {
        "id": "view-in-github",
        "colab_type": "text"
      },
      "source": [
        "<a href=\"https://colab.research.google.com/github/rishabhyadav1825/Text-to-image-generator/blob/main/Text_to_image_generator.ipynb\" target=\"_parent\"><img src=\"https://colab.research.google.com/assets/colab-badge.svg\" alt=\"Open In Colab\"/></a>"
      ]
    },
    {
      "cell_type": "markdown",
      "source": [
        "  #    **AI Text-To-Image Generator**\n",
        "\n",
        " This project showcases an advanced AI Text-to-Image Generator powered by two state-of-the-art diffusion models: Stable Diffusion v1.5 and Stable Diffusion XL (SDXL). It enables users to generate highly realistic and artistic images simply by entering descriptive text prompts.\n",
        "\n",
        "\n",
        "\n",
        "The application is built with a clean and interactive Gradio interface, allowing users to select between the two models for image generation. While SD v1.5 offers fast, lightweight generation with impressive results, SDXL delivers higher resolution and more coherent images with better understanding of complex prompts. *\n",
        "\n",
        "\n",
        "\n"
      ],
      "metadata": {
        "id": "EBqJeZu8hGab"
      }
    },
    {
      "cell_type": "markdown",
      "source": [
        "**STEP-1: Installing** **Dependencies**"
      ],
      "metadata": {
        "id": "Gq7kewrlfxIu"
      }
    },
    {
      "cell_type": "code",
      "execution_count": null,
      "metadata": {
        "id": "F1Rr1I5eIImF"
      },
      "outputs": [],
      "source": [
        "import torch\n",
        "import gradio as gr"
      ]
    },
    {
      "cell_type": "markdown",
      "source": [
        "**STEP-2: Initialize the pipelinet**"
      ],
      "metadata": {
        "id": "o4ALmR8_f__q"
      }
    },
    {
      "cell_type": "code",
      "execution_count": null,
      "metadata": {
        "id": "Q3aq3rxsTMdI"
      },
      "outputs": [],
      "source": [
        "\n",
        "model_1 = \"runwayml/stable-diffusion-v1-5\"  #  supported\n",
        "model_2 = \"stabilityai/stable-diffusion-xl-base-1.0\"  # supported (SDXL)\n"
      ]
    },
    {
      "cell_type": "code",
      "execution_count": null,
      "metadata": {
        "id": "u2XSHeNqTMST"
      },
      "outputs": [],
      "source": [
        "models = {\n",
        "    \"dreamlike\": \"dreamlike-art/dreamlike-photoreal-2.0\",\n",
        "    \"sd15\": \"runwayml/stable-diffusion-v1-5\",\n",
        "\n",
        "}\n"
      ]
    },
    {
      "cell_type": "code",
      "execution_count": null,
      "metadata": {
        "id": "MMDZ2gHaTYEg"
      },
      "outputs": [],
      "source": [
        "from diffusers import StableDiffusionPipeline\n",
        "import torch\n",
        "\n",
        "pipes = {}\n",
        "\n",
        "for name, model_id in models.items():\n",
        "    pipe = StableDiffusionPipeline.from_pretrained(model_id, torch_dtype=torch.float16)\n",
        "    pipe = pipe.to(\"cuda\")\n",
        "    pipes[name] = pipe"
      ]
    },
    {
      "cell_type": "markdown",
      "source": [
        "**STEP-3: Defining the Generate Image Function and Taking User Prompt**"
      ],
      "metadata": {
        "id": "-d2Ij2G-gJYv"
      }
    },
    {
      "cell_type": "code",
      "execution_count": null,
      "metadata": {
        "id": "REfbSxCIOO9E"
      },
      "outputs": [],
      "source": [
        "def generate_image(model_name, prompt):\n",
        "    # Safety check for empty prompts\n",
        "    if not prompt.strip():\n",
        "        raise gr.Error(\"Please enter a valid prompt\")\n",
        "\n",
        "    # Get the selected pipeline\n",
        "    pipe = pipes.get(model_name)\n",
        "    if not pipe:\n",
        "        raise gr.Error(f\"Model '{model_name}' not found.\")\n",
        "\n",
        "    # Generate image\n",
        "    with torch.autocast(\"cuda\"):\n",
        "        image = pipe(prompt).images[0]\n",
        "    return image"
      ]
    },
    {
      "cell_type": "markdown",
      "source": [
        "**STEP-4: Create Interface using GRADIO**"
      ],
      "metadata": {
        "id": "xHXdkZlKgPnT"
      }
    },
    {
      "cell_type": "code",
      "execution_count": null,
      "metadata": {
        "id": "UzGD0DZLOO4t"
      },
      "outputs": [],
      "source": [
        "iface = gr.Interface(\n",
        "    fn=generate_image,\n",
        "    inputs=[gr.Dropdown(choices=list(pipes.keys()), label=\"Select Model\"),\n",
        "            gr.Textbox(lines=2, placeholder=\"Describe the image you want to generate...\")],\n",
        "    outputs=\"image\",\n",
        "    title=\"AI Text-to-Image Generator\",\n",
        "    description=\"Enter a text prompt to generate an image using Stable Diffusion\"\n",
        ")"
      ]
    },
    {
      "cell_type": "markdown",
      "source": [
        "** STEP-5: Launch the Interface**"
      ],
      "metadata": {
        "id": "VW8uDOqsgUen"
      }
    },
    {
      "cell_type": "code",
      "execution_count": null,
      "metadata": {
        "id": "JVIOGJTLOO0Y"
      },
      "outputs": [],
      "source": [
        "iface.launch(\n",
        "    share=True,\n",
        "    debug=True,\n",
        "    server_port=7860\n",
        ")"
      ]
    },
    {
      "cell_type": "code",
      "execution_count": null,
      "metadata": {
        "id": "FoAObEtMOOx5"
      },
      "outputs": [],
      "source": []
    },
    {
      "cell_type": "code",
      "execution_count": null,
      "metadata": {
        "id": "YdvxtrH6IIMn"
      },
      "outputs": [],
      "source": []
    }
  ],
  "metadata": {
    "accelerator": "GPU",
    "colab": {
      "gpuType": "T4",
      "provenance": [],
      "authorship_tag": "ABX9TyPLt8dNyb7Gq/yZnLuMgwR5",
      "include_colab_link": true
    },
    "kernelspec": {
      "display_name": "Python 3",
      "name": "python3"
    },
    "language_info": {
      "name": "python"
    }
  },
  "nbformat": 4,
  "nbformat_minor": 0
}